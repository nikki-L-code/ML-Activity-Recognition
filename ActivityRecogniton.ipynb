{
 "cells": [
  {
   "cell_type": "code",
   "execution_count": 1,
   "metadata": {},
   "outputs": [],
   "source": [
    "#IMPORT NECESSARY LIBRARIES\n",
    "import pandas as pd"
   ]
  },
  {
   "cell_type": "code",
   "execution_count": 2,
   "metadata": {},
   "outputs": [],
   "source": [
    "import numpy as np"
   ]
  },
  {
   "cell_type": "code",
   "execution_count": 3,
   "metadata": {},
   "outputs": [],
   "source": [
    "#TO CONCATENATE CSV FILES\n",
    "import os, glob"
   ]
  },
  {
   "cell_type": "code",
   "execution_count": 4,
   "metadata": {},
   "outputs": [],
   "source": [
    "#TASK 1: RETRIEVING AND PREPARING THE DATA "
   ]
  },
  {
   "cell_type": "code",
   "execution_count": 12,
   "metadata": {},
   "outputs": [],
   "source": [
    "#CONCATENATING ALL CSV FILES\n",
    "all_files = glob.glob(\"*.csv\")"
   ]
  },
  {
   "cell_type": "code",
   "execution_count": 14,
   "metadata": {},
   "outputs": [],
   "source": [
    "dataframes = []"
   ]
  },
  {
   "cell_type": "code",
   "execution_count": 15,
   "metadata": {},
   "outputs": [],
   "source": [
    "for filename in all_files:\n",
    "    df = pd.read_csv(filename, index_col = None, sep=',',decimal='.', header = None)\n",
    "    dataframes.append(df)"
   ]
  },
  {
   "cell_type": "code",
   "execution_count": 16,
   "metadata": {},
   "outputs": [],
   "source": [
    "mice = pd.concat(dataframes, axis = 0, ignore_index = True)"
   ]
  },
  {
   "cell_type": "code",
   "execution_count": 11,
   "metadata": {
    "scrolled": false
   },
   "outputs": [
    {
     "data": {
      "text/html": [
       "<div>\n",
       "<style scoped>\n",
       "    .dataframe tbody tr th:only-of-type {\n",
       "        vertical-align: middle;\n",
       "    }\n",
       "\n",
       "    .dataframe tbody tr th {\n",
       "        vertical-align: top;\n",
       "    }\n",
       "\n",
       "    .dataframe thead th {\n",
       "        text-align: right;\n",
       "    }\n",
       "</style>\n",
       "<table border=\"1\" class=\"dataframe\">\n",
       "  <thead>\n",
       "    <tr style=\"text-align: right;\">\n",
       "      <th></th>\n",
       "      <th>0</th>\n",
       "      <th>1</th>\n",
       "      <th>2</th>\n",
       "      <th>3</th>\n",
       "      <th>4</th>\n",
       "    </tr>\n",
       "  </thead>\n",
       "  <tbody>\n",
       "    <tr>\n",
       "      <th>0</th>\n",
       "      <td>0.0</td>\n",
       "      <td>1502</td>\n",
       "      <td>2215</td>\n",
       "      <td>2153</td>\n",
       "      <td>1</td>\n",
       "    </tr>\n",
       "    <tr>\n",
       "      <th>1</th>\n",
       "      <td>1.0</td>\n",
       "      <td>1667</td>\n",
       "      <td>2072</td>\n",
       "      <td>2047</td>\n",
       "      <td>1</td>\n",
       "    </tr>\n",
       "    <tr>\n",
       "      <th>2</th>\n",
       "      <td>2.0</td>\n",
       "      <td>1611</td>\n",
       "      <td>1957</td>\n",
       "      <td>1906</td>\n",
       "      <td>1</td>\n",
       "    </tr>\n",
       "    <tr>\n",
       "      <th>3</th>\n",
       "      <td>3.0</td>\n",
       "      <td>1601</td>\n",
       "      <td>1939</td>\n",
       "      <td>1831</td>\n",
       "      <td>1</td>\n",
       "    </tr>\n",
       "    <tr>\n",
       "      <th>4</th>\n",
       "      <td>4.0</td>\n",
       "      <td>1643</td>\n",
       "      <td>1965</td>\n",
       "      <td>1879</td>\n",
       "      <td>1</td>\n",
       "    </tr>\n",
       "  </tbody>\n",
       "</table>\n",
       "</div>"
      ],
      "text/plain": [
       "     0     1     2     3  4\n",
       "0  0.0  1502  2215  2153  1\n",
       "1  1.0  1667  2072  2047  1\n",
       "2  2.0  1611  1957  1906  1\n",
       "3  3.0  1601  1939  1831  1\n",
       "4  4.0  1643  1965  1879  1"
      ]
     },
     "execution_count": 11,
     "metadata": {},
     "output_type": "execute_result"
    }
   ],
   "source": [
    "#CHECK FILES WERE MERGED PROPERLY\n",
    "mice.head()"
   ]
  },
  {
   "cell_type": "code",
   "execution_count": null,
   "metadata": {},
   "outputs": [],
   "source": [
    "mice.tail()"
   ]
  },
  {
   "cell_type": "code",
   "execution_count": null,
   "metadata": {},
   "outputs": [],
   "source": [
    "#CHECK FOR MISSING VALUES\n",
    "mice.isnull().sum()"
   ]
  },
  {
   "cell_type": "code",
   "execution_count": null,
   "metadata": {},
   "outputs": [],
   "source": [
    "#INSERT HEADERS FOR EACH COLUMN\n",
    "mice.columns = ['Sequential No.', 'X Acceleration', 'Y Acceleration', 'Z Acceleration', 'Activity']"
   ]
  },
  {
   "cell_type": "code",
   "execution_count": null,
   "metadata": {},
   "outputs": [],
   "source": [
    "#CHECK HEADERS WERE ADDED \n",
    "mice.head()"
   ]
  },
  {
   "cell_type": "code",
   "execution_count": null,
   "metadata": {},
   "outputs": [],
   "source": [
    "#DELETE \"SEQUENTIAL NO.\" COLUMN\n",
    "mice = mice.drop(columns = \"Sequential No.\")"
   ]
  },
  {
   "cell_type": "code",
   "execution_count": null,
   "metadata": {},
   "outputs": [],
   "source": [
    "#CHECK THAT \"SEQUENTIAL NO.\" COLUMN IS DELETED \n",
    "mice.head()"
   ]
  },
  {
   "cell_type": "code",
   "execution_count": null,
   "metadata": {},
   "outputs": [],
   "source": [
    "#SUMMARY STATISTICS FOR DATASET \n",
    "mice.describe(include = 'all') "
   ]
  },
  {
   "cell_type": "code",
   "execution_count": null,
   "metadata": {},
   "outputs": [],
   "source": [
    "#CHECK THE NO. OF ACTIVITIES (SHOULD ONLY BE 7) - SANITY CHECK\n",
    "print(mice.groupby('Activity').size())"
   ]
  },
  {
   "cell_type": "code",
   "execution_count": null,
   "metadata": {},
   "outputs": [],
   "source": [
    "#FILTER ACTIVITY LABELLED \"1 - 7\"\n",
    "mice.query('Activity != 0', inplace = True)"
   ]
  },
  {
   "cell_type": "code",
   "execution_count": null,
   "metadata": {},
   "outputs": [],
   "source": [
    "#CHECK THAT ACTIVITY LABELLED \"0\" HAS BEEN DROPPED\n",
    "print(mice.groupby('Activity').size())"
   ]
  },
  {
   "cell_type": "code",
   "execution_count": null,
   "metadata": {},
   "outputs": [],
   "source": [
    "#TASK 2: DATA EXPLORATION"
   ]
  },
  {
   "cell_type": "code",
   "execution_count": null,
   "metadata": {},
   "outputs": [],
   "source": [
    "#GROUP BY ACTIVITY & X ACCELERATION - SUMMARY STATISTICS\n",
    "mice.groupby('Activity')['X Acceleration'].describe()"
   ]
  },
  {
   "cell_type": "code",
   "execution_count": null,
   "metadata": {},
   "outputs": [],
   "source": [
    "#GROUP BY ACTIVITY & Y ACCELERATION - SUMMARY STATISTICS\n",
    "mice.groupby('Activity')['Y Acceleration'].describe()"
   ]
  },
  {
   "cell_type": "code",
   "execution_count": null,
   "metadata": {},
   "outputs": [],
   "source": [
    "#GROUP BY ACTIVITY & Z ACCELERATION - SUMMARY STATISTICS\n",
    "mice.groupby('Activity')['Z Acceleration'].describe()"
   ]
  },
  {
   "cell_type": "code",
   "execution_count": null,
   "metadata": {},
   "outputs": [],
   "source": [
    "import seaborn as sns"
   ]
  },
  {
   "cell_type": "code",
   "execution_count": null,
   "metadata": {},
   "outputs": [],
   "source": [
    "import matplotlib.pyplot as plt"
   ]
  },
  {
   "cell_type": "code",
   "execution_count": null,
   "metadata": {},
   "outputs": [],
   "source": [
    "sns.set(style=\"whitegrid\")"
   ]
  },
  {
   "cell_type": "code",
   "execution_count": null,
   "metadata": {},
   "outputs": [],
   "source": [
    "#BOXPLOT ACTIVITY & X ACCELERATION \n",
    "plt.figure()\n",
    "ax = sns.boxplot(x=\"Activity\", y=\"X Acceleration\", data=mice)"
   ]
  },
  {
   "cell_type": "code",
   "execution_count": null,
   "metadata": {},
   "outputs": [],
   "source": [
    "#BOXPLOT ACTIVITY & Y ACCELERATION \n",
    "plt.figure()\n",
    "ay = sns.boxplot(x=\"Activity\", y=\"Y Acceleration\", data=mice)"
   ]
  },
  {
   "cell_type": "code",
   "execution_count": null,
   "metadata": {},
   "outputs": [],
   "source": [
    "#BOXPLOT ACTIVITY & Z ACCELERATION \n",
    "plt.figure()\n",
    "az = sns.boxplot(x=\"Activity\", y=\"Z Acceleration\", data=mice)"
   ]
  },
  {
   "cell_type": "code",
   "execution_count": null,
   "metadata": {
    "scrolled": true
   },
   "outputs": [],
   "source": [
    "#AVERAGE FOR EACH ACCELERATION AND ACTIVITY\n",
    "mice.groupby('Activity')[['X Acceleration','Y Acceleration','Z Acceleration']].mean()"
   ]
  },
  {
   "cell_type": "code",
   "execution_count": null,
   "metadata": {},
   "outputs": [],
   "source": [
    "# PLOT AVERAGE FOR EACH ACCELERATION VS ACTIVITY\n",
    "plt.figure()\n",
    "N = 7\n",
    "X_mean = (1977.69, 1969.49, 1996.27, 1976.82, 2000.55, 2027.11, 1997.85)\n",
    "Y_mean = (2376.56, 2371.05, 2378.30, 2386.29, 2385.49, 2374.07, 2388.54)\n",
    "Z_mean = (1966.42, 1940.45, 1965.73, 1978.71, 1997, 1952.19, 1973.05)\n",
    "\n",
    "ind = np.arange(N)\n",
    "width = 0.25\n",
    "plt.bar(ind, X_mean, width, label='X Acceleration', color='dodgerblue')\n",
    "plt.bar(ind + width, Y_mean, width, label = 'Y Acceleration', color='orangered')\n",
    "plt.bar(ind + width*2, Z_mean, width, label = 'Z Acceleration', color='gold')\n",
    "\n",
    "plt.xlabel('Activity')\n",
    "plt.ylabel('Acceleration')\n",
    "plt.title('Average Acceleration (X, Y, Z) for each Activity')\n",
    "\n",
    "plt.xticks(ind + width / 2, ('1', '2', '3', '4', '5', '6', '7'))\n",
    "plt.legend(loc=\"lower right\")\n",
    "plt.show()"
   ]
  },
  {
   "cell_type": "code",
   "execution_count": null,
   "metadata": {},
   "outputs": [],
   "source": [
    "#TASK 3: DATA MODELLING - CLASSIFICATION"
   ]
  },
  {
   "cell_type": "code",
   "execution_count": null,
   "metadata": {},
   "outputs": [],
   "source": [
    "#CREATE FEATURE AND TARGET VARIABLES(X and Y variables)\n",
    "Acceleration = ['X Acceleration', 'Y Acceleration', 'Z Acceleration']\n",
    "\n",
    "X = mice[Acceleration] #Feature variables\n",
    "Y = mice.Activity #Target variable"
   ]
  },
  {
   "cell_type": "code",
   "execution_count": null,
   "metadata": {},
   "outputs": [],
   "source": [
    "#CHECK FEATURE VARIABLES\n",
    "print(X)"
   ]
  },
  {
   "cell_type": "code",
   "execution_count": null,
   "metadata": {},
   "outputs": [],
   "source": [
    "#CHECK TARGET VARIABLE\n",
    "print(Y)"
   ]
  },
  {
   "cell_type": "code",
   "execution_count": null,
   "metadata": {},
   "outputs": [],
   "source": [
    "#SPLIT DATA INTO TRAINING AND TESTING SET (80/20)\n",
    "from sklearn.model_selection import train_test_split\n",
    "\n",
    "X_train, X_test, Y_train, Y_test = train_test_split(X, Y, test_size = 0.2, random_state = 0)"
   ]
  },
  {
   "cell_type": "code",
   "execution_count": null,
   "metadata": {},
   "outputs": [],
   "source": [
    "X_test.shape"
   ]
  },
  {
   "cell_type": "code",
   "execution_count": null,
   "metadata": {},
   "outputs": [],
   "source": [
    "#CHECK NORMALITY OF DATASET\n",
    "train_labels = Y_train.value_counts()\n",
    "plt.figure(figsize = (12,8))\n",
    "plt.bar(train_labels.index.values, train_labels)\n",
    "plt.xticks(train_labels.index.values)\n",
    "plt.xlabel('Activity')\n",
    "plt.ylabel('Frequency')\n",
    "plt.title('FREQUENCY FOR EACH ACTIVITY')"
   ]
  },
  {
   "cell_type": "code",
   "execution_count": null,
   "metadata": {},
   "outputs": [],
   "source": [
    "#SCALE FEATURES \n",
    "from sklearn.preprocessing import MinMaxScaler\n",
    "scaler = MinMaxScaler()\n",
    "X_train = scaler.fit_transform(X_train)\n",
    "X_test = scaler.transform(X_test)"
   ]
  },
  {
   "cell_type": "code",
   "execution_count": null,
   "metadata": {},
   "outputs": [],
   "source": [
    "#DECISION TREE - DEFAULT PARAMETERS \n",
    "from sklearn.tree import DecisionTreeClassifier\n",
    "from sklearn import tree\n",
    "\n",
    "#CREATE DECISION TREE CLASSIFIER OBJECT\n",
    "clf = tree.DecisionTreeClassifier()\n",
    "\n",
    "#TRAIN DECISION TREE CLASSIFER\n",
    "clf = clf.fit(X_train, Y_train)\n",
    "\n",
    "print('Accuracy of Decision Tree classifier on training set: {:.2f}%'.format(clf.score(X_train, Y_train)*100))\n",
    "print('Accuracy of Decision Tree classifer on test set: {:.2f}%'.format(clf.score(X_test, Y_test)*100))"
   ]
  },
  {
   "cell_type": "code",
   "execution_count": null,
   "metadata": {},
   "outputs": [],
   "source": [
    "#CONFUSION MATRIX AND CLASSIFICATION REPORT FOR DECISION TREE - DEFAULT PARAMETERS\n",
    "from sklearn.metrics import classification_report\n",
    "from sklearn.metrics import confusion_matrix\n",
    "\n",
    "Y_pre = clf.predict(X_test)\n",
    "cm = confusion_matrix(Y_test, Y_pre)\n",
    "print(cm)\n",
    "\n",
    "print(classification_report(Y_test, Y_pre))"
   ]
  },
  {
   "cell_type": "code",
   "execution_count": null,
   "metadata": {},
   "outputs": [],
   "source": [
    "#TEST DIFFERENT PARAMETERS - CHECK 'GINI' AND INCREASE PARAMETERS\n",
    "from sklearn.metrics import accuracy_score\n",
    "\n",
    "clf = DecisionTreeClassifier(criterion=\"gini\", max_depth=None, min_samples_split=4,\n",
    "                            min_samples_leaf=4, max_features=\"auto\", max_leaf_nodes=None)\n",
    "\n",
    "clf = clf.fit(X_train, Y_train)\n",
    "\n",
    "Y_pred = clf.predict(X_test)\n",
    "\n",
    "print('Accuracy of Decision Tree classifer on test set: {:.2f}%'.format(accuracy_score(Y_test, Y_pred)*100))"
   ]
  },
  {
   "cell_type": "code",
   "execution_count": null,
   "metadata": {},
   "outputs": [],
   "source": [
    "#TEST DIFFERENT PARAMETERS = CHECK 'ENTROPY' AND INCREASE PARAMETERS\n",
    "from sklearn.metrics import accuracy_score\n",
    "\n",
    "clf = DecisionTreeClassifier(criterion=\"entropy\", max_depth=None, min_samples_split=4,\n",
    "                            min_samples_leaf=4, max_features=\"auto\", max_leaf_nodes=None)\n",
    "\n",
    "clf = clf.fit(X_train, Y_train)\n",
    "\n",
    "Y_pred = clf.predict(X_test)\n",
    "\n",
    "print('Accuracy of Decision Tree classifier on training set: {:.2f}%'.format(clf.score(X_train, Y_train)*100))\n",
    "print('Accuracy of Decision Tree classifer on test set: {:.2f}%'.format(accuracy_score(Y_test, Y_pred)*100))"
   ]
  },
  {
   "cell_type": "code",
   "execution_count": null,
   "metadata": {},
   "outputs": [],
   "source": [
    "#TEST DIFFERENT PARAMETERS - CHECK 'GINI' AND FURTHER INCREASE PARAMETERS\n",
    "from sklearn.metrics import accuracy_score\n",
    "\n",
    "clf = DecisionTreeClassifier(criterion=\"gini\", max_depth=5, min_samples_split=10,\n",
    "                            min_samples_leaf=5, max_features=None, max_leaf_nodes=5)\n",
    "\n",
    "clf = clf.fit(X_train, Y_train)\n",
    "\n",
    "Y_pred = clf.predict(X_test)\n",
    "\n",
    "print('Accuracy of Decision Tree classifer on test set: {:.2f}%'.format(accuracy_score(Y_test, Y_pred)*100))"
   ]
  },
  {
   "cell_type": "code",
   "execution_count": null,
   "metadata": {},
   "outputs": [],
   "source": [
    "#TEST DIFFERENT PARAMETERS - CHECK 'ENTROPY' AND FURTHER INCREASE PARAMETERS\n",
    "from sklearn.metrics import accuracy_score\n",
    "\n",
    "clf = DecisionTreeClassifier(criterion=\"entropy\", max_depth=10, min_samples_split=20,\n",
    "                            min_samples_leaf=10, max_features=\"auto\", max_leaf_nodes=10)\n",
    "\n",
    "\n",
    "clf = clf.fit(X_train, Y_train)\n",
    "\n",
    "Y_pred = clf.predict(X_test)\n",
    "\n",
    "print('Accuracy of Decision Tree classifer on test set: {:.2f}%'.format(accuracy_score(Y_test, Y_pred)*100))"
   ]
  },
  {
   "cell_type": "code",
   "execution_count": null,
   "metadata": {
    "scrolled": true
   },
   "outputs": [],
   "source": [
    "#DECISION TREE - TUNED PARAMETERS\n",
    "from sklearn.metrics import accuracy_score\n",
    "\n",
    "clf = DecisionTreeClassifier(criterion=\"entropy\", max_depth=15, min_samples_split=10,\n",
    "                            min_samples_leaf=10, max_features=\"auto\", max_leaf_nodes=None)\n",
    "\n",
    "clf = clf.fit(X_train, Y_train)\n",
    "\n",
    "Y_pred = clf.predict(X_test)\n",
    "\n",
    "print('Accuracy of Decision Tree classifier on training set: {:.2f}%'.format(clf.score(X_train, Y_train)*100))\n",
    "print('Accuracy of Decision Tree classifer on test set: {:.2f}%'.format(accuracy_score(Y_test, Y_pred)*100))"
   ]
  },
  {
   "cell_type": "code",
   "execution_count": null,
   "metadata": {
    "scrolled": true
   },
   "outputs": [],
   "source": [
    "#CONFUSION MATRIX AND CLASSIFICATION REPORT FOR DECISION TREE - TUNED PARAMETERS\n",
    "from sklearn.metrics import classification_report\n",
    "from sklearn.metrics import confusion_matrix\n",
    "\n",
    "Y_pre = clf.predict(X_test)\n",
    "cm = confusion_matrix(Y_test, Y_pred)\n",
    "print(cm)\n",
    "\n",
    "print(classification_report(Y_test, Y_pred))"
   ]
  },
  {
   "cell_type": "code",
   "execution_count": null,
   "metadata": {},
   "outputs": [],
   "source": [
    "#K-NEAREST NEIGHBOURS - DEFAULT PARAMETERS (MINMAX SCALER)\n",
    "from sklearn.neighbors import KNeighborsClassifier \n",
    "\n",
    "#RESCALE FEATURES - MINMAX SCALER\n",
    "from sklearn.preprocessing import MinMaxScaler\n",
    "scaler = MinMaxScaler()\n",
    "X_train = scaler.fit_transform(X_train)\n",
    "X_test = scaler.transform(X_test)\n",
    "\n",
    "knn = KNeighborsClassifier()\n",
    "knn.fit(X_train, Y_train)\n",
    "\n",
    "print('Accuracy of K-NN classifier on training set: {:.2f}%'.format(knn.score(X_train, Y_train)*100))\n",
    "print('Accuracy of K-NN classifier on test set: {:.2f}%'.format(knn.score(X_test, Y_test)*100))"
   ]
  },
  {
   "cell_type": "code",
   "execution_count": null,
   "metadata": {},
   "outputs": [],
   "source": [
    "#K-NEAREST NEIGHBOURS - DEFAULT PARAMETERS (STANDARD SCALER)\n",
    "from sklearn.neighbors import KNeighborsClassifier \n",
    "\n",
    "#RESCALE FEATURES - STANDARD SCALER\n",
    "from sklearn.preprocessing import StandardScaler\n",
    "scaler = StandardScaler()\n",
    "X_train = scaler.fit_transform(X_train)\n",
    "X_test = scaler.transform(X_test)\n",
    "\n",
    "knn = KNeighborsClassifier()\n",
    "knn.fit(X_train, Y_train)\n",
    "\n",
    "print('Accuracy of K-NN classifier on training set: {:.2f}%'.format(knn.score(X_train, Y_train)*100))\n",
    "print('Accuracy of K-NN classifier on test set: {:.2f}%'.format(knn.score(X_test, Y_test)*100))"
   ]
  },
  {
   "cell_type": "code",
   "execution_count": null,
   "metadata": {},
   "outputs": [],
   "source": [
    "#CONFUSION MATRIX AND CLASSIFICATION REPORT FOR KNN\n",
    "from sklearn.metrics import classification_report\n",
    "from sklearn.metrics import confusion_matrix\n",
    "pred = knn.predict(X_test)\n",
    "print(confusion_matrix(Y_test, pred))\n",
    "\n",
    "print(classification_report(Y_test, pred))"
   ]
  },
  {
   "cell_type": "code",
   "execution_count": null,
   "metadata": {},
   "outputs": [],
   "source": [
    "#K-NEAREST NEIGHBOURS - TUNED PARAMETERS (INCREASE NO. NEIGHBOURS BY 10)\n",
    "from sklearn.neighbors import KNeighborsClassifier \n",
    "\n",
    "#RESCALE FEATURES - STANDARD SCALER\n",
    "from sklearn.preprocessing import StandardScaler\n",
    "scaler = StandardScaler()\n",
    "X_train = scaler.fit_transform(X_train)\n",
    "X_test = scaler.transform(X_test)\n",
    "\n",
    "knn = KNeighborsClassifier(n_neighbors=10, weights='uniform',p=1)\n",
    "knn.fit(X_train, Y_train)\n",
    "\n",
    "print('Accuracy of K-NN classifier on training set: {:.2f}%'.format(knn.score(X_train, Y_train)*100))\n",
    "print('Accuracy of K-NN classifier on test set: {:.2f}%'.format(knn.score(X_test, Y_test)*100))"
   ]
  },
  {
   "cell_type": "code",
   "execution_count": null,
   "metadata": {},
   "outputs": [],
   "source": [
    "#K-NEAREST NEIGHBOURS  TUNED PARAMETERS (INCREASE NO. NEIGHBOURS BY 30)\n",
    "from sklearn.neighbors import KNeighborsClassifier \n",
    "\n",
    "#RESCALE FEATURES - STANDARD SCALER\n",
    "from sklearn.preprocessing import StandardScaler\n",
    "scaler = StandardScaler()\n",
    "X_train = scaler.fit_transform(X_train)\n",
    "X_test = scaler.transform(X_test)\n",
    "\n",
    "knn = KNeighborsClassifier(n_neighbors=30, weights='uniform',p=1)\n",
    "knn.fit(X_train, Y_train)\n",
    "\n",
    "print('Accuracy of K-NN classifier on training set: {:.2f}%'.format(knn.score(X_train, Y_train)*100))\n",
    "print('Accuracy of K-NN classifier on test set: {:.2f}%'.format(knn.score(X_test, Y_test)*100))"
   ]
  },
  {
   "cell_type": "code",
   "execution_count": null,
   "metadata": {},
   "outputs": [],
   "source": [
    "#K-NEAREST NEIGHBOURS - COMPARE DISTANCE METRICS \n",
    "from sklearn.neighbors import KNeighborsClassifier \n",
    "\n",
    "#RESCALE FEATURES - STANDARD SCALER\n",
    "from sklearn.preprocessing import StandardScaler\n",
    "scaler = StandardScaler()\n",
    "X_train = scaler.fit_transform(X_train)\n",
    "X_test = scaler.transform(X_test)\n",
    "\n",
    "knn = KNeighborsClassifier(n_neighbors=30, weights='distance',p=1)\n",
    "knn.fit(X_train, Y_train)\n",
    "\n",
    "print('Accuracy of K-NN classifier on training set: {:.2f}%'.format(knn.score(X_train, Y_train)*100))\n",
    "print('Accuracy of K-NN classifier on test set: {:.2f}%'.format(knn.score(X_test, Y_test)*100))"
   ]
  },
  {
   "cell_type": "code",
   "execution_count": null,
   "metadata": {},
   "outputs": [],
   "source": [
    "#K-NEAREST NEIGHBOURS - COMPARE P \n",
    "from sklearn.neighbors import KNeighborsClassifier \n",
    "\n",
    "#RESCALE FEATURES - STANDARD SCALER\n",
    "from sklearn.preprocessing import StandardScaler\n",
    "scaler = StandardScaler()\n",
    "X_train = scaler.fit_transform(X_train)\n",
    "X_test = scaler.transform(X_test)\n",
    "\n",
    "knn = KNeighborsClassifier(n_neighbors=40, weights='distance',p=1)\n",
    "knn.fit(X_train, Y_train)\n",
    "\n",
    "print('Accuracy of K-NN classifier on training set: {:.2f}%'.format(knn.score(X_train, Y_train)*100))\n",
    "print('Accuracy of K-NN classifier on test set: {:.2f}%'.format(knn.score(X_test, Y_test)*100))"
   ]
  },
  {
   "cell_type": "code",
   "execution_count": null,
   "metadata": {},
   "outputs": [],
   "source": [
    "#K-NEAREST NEIGHBOURS  - COMPARE P \n",
    "from sklearn.neighbors import KNeighborsClassifier \n",
    "\n",
    "#RESCALE FEATURES - STANDARD SCALER\n",
    "from sklearn.preprocessing import StandardScaler\n",
    "scaler = StandardScaler()\n",
    "X_train = scaler.fit_transform(X_train)\n",
    "X_test = scaler.transform(X_test)\n",
    "\n",
    "knn = KNeighborsClassifier(n_neighbors=40, weights='uniform',p=2)\n",
    "knn.fit(X_train, Y_train)\n",
    "\n",
    "print('Accuracy of K-NN classifier on training set: {:.2f}%'.format(knn.score(X_train, Y_train)*100))\n",
    "print('Accuracy of K-NN classifier on test set: {:.2f}%'.format(knn.score(X_test, Y_test)*100))"
   ]
  },
  {
   "cell_type": "code",
   "execution_count": null,
   "metadata": {},
   "outputs": [],
   "source": [
    "#K-NEAREST NEIGHBOURS - COMPARE NO. OF NEIGHBOURS\n",
    "from sklearn.neighbors import KNeighborsClassifier \n",
    "\n",
    "#RESCALE FEATURES - STANDARD SCALER\n",
    "from sklearn.preprocessing import StandardScaler\n",
    "scaler = StandardScaler()\n",
    "X_train = scaler.fit_transform(X_train)\n",
    "X_test = scaler.transform(X_test)\n",
    "\n",
    "knn = KNeighborsClassifier(n_neighbors=50, weights='uniform',p=2)\n",
    "knn.fit(X_train, Y_train)\n",
    "\n",
    "print('Accuracy of K-NN classifier on training set: {:.2f}%'.format(knn.score(X_train, Y_train)*100))\n",
    "print('Accuracy of K-NN classifier on test set: {:.2f}%'.format(knn.score(X_test, Y_test)*100))"
   ]
  },
  {
   "cell_type": "code",
   "execution_count": null,
   "metadata": {},
   "outputs": [],
   "source": [
    "#CONFUSION MATRIX AND CLASSIFICATION REPORT FOR KNN\n",
    "from sklearn.metrics import classification_report\n",
    "from sklearn.metrics import confusion_matrix\n",
    "pred = knn.predict(X_test)\n",
    "print(confusion_matrix(Y_test, pred))\n",
    "\n",
    "print(classification_report(Y_test, pred))"
   ]
  }
 ],
 "metadata": {
  "kernelspec": {
   "display_name": "Python 3",
   "language": "python",
   "name": "python3"
  },
  "language_info": {
   "codemirror_mode": {
    "name": "ipython",
    "version": 3
   },
   "file_extension": ".py",
   "mimetype": "text/x-python",
   "name": "python",
   "nbconvert_exporter": "python",
   "pygments_lexer": "ipython3",
   "version": "3.7.6"
  }
 },
 "nbformat": 4,
 "nbformat_minor": 4
}
